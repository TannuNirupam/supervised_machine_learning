{
 "cells": [
  {
   "cell_type": "code",
   "execution_count": 1,
   "id": "fd1f9250-ee88-41b7-91da-e6152fc5b4ce",
   "metadata": {},
   "outputs": [],
   "source": [
    "from sklearn.datasets import make_classification\n",
    "X, y = make_classification(random_state=42)"
   ]
  },
  {
   "cell_type": "code",
   "execution_count": 3,
   "id": "af42929b-1817-40f0-91bc-51b76edf8b97",
   "metadata": {},
   "outputs": [],
   "source": [
    "X,y=make_classification(n_samples=10000,\n",
    "                    n_features=20, \n",
    "                    n_informative=2,\n",
    "                    n_redundant=2,\n",
    "                    n_repeated=0,\n",
    "                    weights=[0.9,0.1],\n",
    "                    n_classes=2,\n",
    "                    random_state=42)"
   ]
  },
  {
   "cell_type": "code",
   "execution_count": 4,
   "id": "26cc0faa-2749-4686-81b1-d3dc56fb7d25",
   "metadata": {},
   "outputs": [],
   "source": [
    "from sklearn.model_selection import train_test_split\n",
    "X_train,X_test,y_train,y_test=train_test_split(X,y,test_size=0.2,random_state=42)"
   ]
  },
  {
   "cell_type": "code",
   "execution_count": 8,
   "id": "ba47d087-c4b3-43d1-af1c-15370cd36f86",
   "metadata": {},
   "outputs": [
    {
     "data": {
      "text/plain": [
       "Counter({np.int64(0): 8968, np.int64(1): 1032})"
      ]
     },
     "execution_count": 8,
     "metadata": {},
     "output_type": "execute_result"
    }
   ],
   "source": [
    "from collections import Counter\n",
    "Counter(y)"
   ]
  },
  {
   "cell_type": "code",
   "execution_count": 10,
   "id": "6c5506cf-e6a4-43e4-84f6-6c860f1e889f",
   "metadata": {},
   "outputs": [
    {
     "name": "stdout",
     "output_type": "stream",
     "text": [
      "Counter({np.int64(0): 1776, np.int64(1): 224})\n",
      "Counter({np.int64(0): 1788, np.int64(1): 212})\n",
      "Counter({np.int64(0): 1800, np.int64(1): 200})\n",
      "Counter({np.int64(0): 1810, np.int64(1): 190})\n",
      "Counter({np.int64(0): 1794, np.int64(1): 206})\n"
     ]
    }
   ],
   "source": [
    "from sklearn.model_selection import KFold\n",
    "kf= KFold(n_splits=5,shuffle=True,random_state=42)\n",
    "for train_index,test_index in kf.split(X,y):\n",
    "   \n",
    "    X_train,X_test=X[train_index],X[test_index]\n",
    "    y_train,y_test=y[train_index],y[test_index]\n",
    "\n",
    "    print(Counter(y_test))"
   ]
  },
  {
   "cell_type": "code",
   "execution_count": 11,
   "id": "962e523d-c2c4-4d65-bf9d-d0a03a96214e",
   "metadata": {},
   "outputs": [
    {
     "name": "stdout",
     "output_type": "stream",
     "text": [
      "Counter({np.int64(0): 1794, np.int64(1): 206})\n",
      "Counter({np.int64(0): 1794, np.int64(1): 206})\n",
      "Counter({np.int64(0): 1794, np.int64(1): 206})\n",
      "Counter({np.int64(0): 1793, np.int64(1): 207})\n",
      "Counter({np.int64(0): 1793, np.int64(1): 207})\n"
     ]
    }
   ],
   "source": [
    "from sklearn.model_selection import StratifiedKFold\n",
    "stf=StratifiedKFold(n_splits=5,shuffle=True,random_state=42)\n",
    "for train_index,test_index in stf.split(X,y):\n",
    "\n",
    "    X_train,X_test=X[train_index],X[test_index]\n",
    "    y_train,y_test=y[train_index],y[test_index]\n",
    "\n",
    "    print(Counter(y_test))"
   ]
  },
  {
   "cell_type": "markdown",
   "id": "4794c27b-62f2-4c1c-b65e-5de37bef260f",
   "metadata": {},
   "source": [
    "### cross validation  on logistic_regression"
   ]
  },
  {
   "cell_type": "code",
   "execution_count": 24,
   "id": "94eee90a-9426-4948-a15a-cef171295df7",
   "metadata": {},
   "outputs": [],
   "source": [
    "from sklearn.linear_model import LogisticRegression"
   ]
  },
  {
   "cell_type": "code",
   "execution_count": 22,
   "id": "afae02b4-735b-4ea5-9e35-df4ebc1a50ac",
   "metadata": {},
   "outputs": [
    {
     "data": {
      "text/plain": [
       "array([0.936 , 0.9365, 0.9295, 0.9395, 0.9405])"
      ]
     },
     "execution_count": 22,
     "metadata": {},
     "output_type": "execute_result"
    }
   ],
   "source": [
    "from sklearn.model_selection import cross_val_score\n",
    "cross_val_score(LogisticRegression(), X, y, cv=kf,scoring=\"accuracy\")"
   ]
  },
  {
   "cell_type": "markdown",
   "id": "6b34ab06-ccd5-4d83-ac01-bf29fa061529",
   "metadata": {},
   "source": [
    "### cross validation on Decision_tree"
   ]
  },
  {
   "cell_type": "code",
   "execution_count": 25,
   "id": "c7a55619-8e17-443e-93c4-43facd7aff19",
   "metadata": {},
   "outputs": [],
   "source": [
    "from sklearn.tree import DecisionTreeClassifier"
   ]
  },
  {
   "cell_type": "code",
   "execution_count": 26,
   "id": "70115d5f-7aca-4be2-ae86-abf26b83a2f4",
   "metadata": {},
   "outputs": [
    {
     "data": {
      "text/plain": [
       "array([0.928 , 0.923 , 0.9295, 0.925 , 0.9315])"
      ]
     },
     "execution_count": 26,
     "metadata": {},
     "output_type": "execute_result"
    }
   ],
   "source": [
    "cross_val_score(DecisionTreeClassifier(), X, y, cv=kf,scoring=\"accuracy\")"
   ]
  },
  {
   "cell_type": "markdown",
   "id": "ff85d878-333c-4c88-90d0-41eb970997fc",
   "metadata": {},
   "source": [
    "### cross validation on Random_forest"
   ]
  },
  {
   "cell_type": "code",
   "execution_count": 27,
   "id": "c8f5a0ce-497e-49f8-b8b0-16da737d2eec",
   "metadata": {},
   "outputs": [
    {
     "data": {
      "text/plain": [
       "array([0.9525, 0.942 , 0.9435, 0.942 , 0.9525])"
      ]
     },
     "execution_count": 27,
     "metadata": {},
     "output_type": "execute_result"
    }
   ],
   "source": [
    "from sklearn.ensemble import RandomForestClassifier\n",
    "cross_val_score(RandomForestClassifier(), X, y, cv=kf,scoring=\"accuracy\")"
   ]
  },
  {
   "cell_type": "markdown",
   "id": "ccab08ca-f89b-4c0c-aca1-8fddc7d42b68",
   "metadata": {},
   "source": [
    "### cross validation with cv as int parameter"
   ]
  },
  {
   "cell_type": "code",
   "execution_count": 28,
   "id": "47cd59bc-787b-47dc-ad14-1958a70d5926",
   "metadata": {},
   "outputs": [
    {
     "data": {
      "text/plain": [
       "array([0.9525, 0.949 , 0.939 , 0.954 , 0.941 ])"
      ]
     },
     "execution_count": 28,
     "metadata": {},
     "output_type": "execute_result"
    }
   ],
   "source": [
    "cross_val_score(RandomForestClassifier(), X, y, cv=5,scoring=\"accuracy\")"
   ]
  },
  {
   "cell_type": "code",
   "execution_count": null,
   "id": "f64271de-ddaf-49da-aeb6-e432da2ba4d4",
   "metadata": {},
   "outputs": [],
   "source": []
  }
 ],
 "metadata": {
  "kernelspec": {
   "display_name": "Python 3 (ipykernel)",
   "language": "python",
   "name": "python3"
  },
  "language_info": {
   "codemirror_mode": {
    "name": "ipython",
    "version": 3
   },
   "file_extension": ".py",
   "mimetype": "text/x-python",
   "name": "python",
   "nbconvert_exporter": "python",
   "pygments_lexer": "ipython3",
   "version": "3.10.11"
  }
 },
 "nbformat": 4,
 "nbformat_minor": 5
}
