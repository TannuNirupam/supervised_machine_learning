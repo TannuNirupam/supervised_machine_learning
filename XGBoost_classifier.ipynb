{
 "cells": [
  {
   "cell_type": "code",
   "execution_count": 1,
   "id": "b478305f-63ab-4f5d-ba0b-64a4906c850f",
   "metadata": {},
   "outputs": [],
   "source": [
    "from sklearn.datasets import make_classification\n",
    "X, y = make_classification(random_state=42)"
   ]
  },
  {
   "cell_type": "code",
   "execution_count": 2,
   "id": "b478140a-3414-4801-a022-580386bd9149",
   "metadata": {},
   "outputs": [],
   "source": [
    "X,y=make_classification(n_samples=10000,\n",
    "                    n_features=20, \n",
    "                    n_informative=2,\n",
    "                    n_redundant=2,\n",
    "                    n_repeated=0,\n",
    "                    n_classes=2,\n",
    "                    random_state=42)"
   ]
  },
  {
   "cell_type": "code",
   "execution_count": 3,
   "id": "2d31ba23-0c87-4e34-8632-d66635ea7ab3",
   "metadata": {},
   "outputs": [
    {
     "data": {
      "text/plain": [
       "(10000, 20)"
      ]
     },
     "execution_count": 3,
     "metadata": {},
     "output_type": "execute_result"
    }
   ],
   "source": [
    "X.shape"
   ]
  },
  {
   "cell_type": "code",
   "execution_count": 4,
   "id": "d61022fa-9c9b-4777-b0d1-dd5347d45305",
   "metadata": {},
   "outputs": [
    {
     "data": {
      "text/plain": [
       "array([[-0.6531912 , -0.81238767,  1.19535267, -2.10168682,  0.1341503 ,\n",
       "         1.55095273, -1.37272924,  0.61196627,  0.88262685,  0.75505386,\n",
       "        -1.0716045 , -0.04271342,  0.75066317,  1.19834816,  2.34352695,\n",
       "         1.35734475,  0.57872361,  1.60033929,  0.77295496, -0.29007468],\n",
       "       [ 0.6776613 ,  1.05645354, -1.00719561,  0.61448152,  0.7910974 ,\n",
       "         3.25976687, -0.50279976, -1.26113193, -0.61779136, -0.16256229,\n",
       "         0.95588989, -1.14484807,  2.57379775, -0.21527978,  1.18267803,\n",
       "         0.3178878 , -0.13068058,  0.55370642,  0.72971507,  0.68225029]])"
      ]
     },
     "execution_count": 4,
     "metadata": {},
     "output_type": "execute_result"
    }
   ],
   "source": [
    "X[:2]"
   ]
  },
  {
   "cell_type": "code",
   "execution_count": 5,
   "id": "5338d397-1999-4998-b3a7-08984235449d",
   "metadata": {},
   "outputs": [
    {
     "data": {
      "text/plain": [
       "array([1, 1])"
      ]
     },
     "execution_count": 5,
     "metadata": {},
     "output_type": "execute_result"
    }
   ],
   "source": [
    "y[:2]"
   ]
  },
  {
   "cell_type": "code",
   "execution_count": 6,
   "id": "ea9325ac-3ddf-42f0-8c4a-edfc0cc285da",
   "metadata": {},
   "outputs": [
    {
     "name": "stdout",
     "output_type": "stream",
     "text": [
      "              precision    recall  f1-score   support\n",
      "\n",
      "           0       0.90      0.89      0.89      1006\n",
      "           1       0.89      0.90      0.89       994\n",
      "\n",
      "    accuracy                           0.89      2000\n",
      "   macro avg       0.89      0.89      0.89      2000\n",
      "weighted avg       0.89      0.89      0.89      2000\n",
      "\n"
     ]
    }
   ],
   "source": [
    "from sklearn.model_selection import train_test_split\n",
    "X_train,X_test,y_train,y_test=train_test_split(X,y,test_size=0.2,random_state=42)\n",
    "\n",
    "from sklearn.linear_model import LogisticRegression\n",
    "from sklearn.metrics import classification_report\n",
    "model= LogisticRegression()\n",
    "\n",
    "model.fit(X_train,y_train)\n",
    "y_pred=model.predict(X_test)\n",
    "report=classification_report(y_test,y_pred)\n",
    "print(report)"
   ]
  },
  {
   "cell_type": "markdown",
   "id": "c3d3d194-12dd-40e4-9aa1-b361a3d889d4",
   "metadata": {},
   "source": [
    "### train using XGBClassifier"
   ]
  },
  {
   "cell_type": "code",
   "execution_count": 7,
   "id": "187315d2-bb23-4a20-8a87-7ec9f9345dd1",
   "metadata": {
    "scrolled": true
   },
   "outputs": [
    {
     "name": "stdout",
     "output_type": "stream",
     "text": [
      "              precision    recall  f1-score   support\n",
      "\n",
      "           0       0.95      0.91      0.93      1006\n",
      "           1       0.91      0.95      0.93       994\n",
      "\n",
      "    accuracy                           0.93      2000\n",
      "   macro avg       0.93      0.93      0.93      2000\n",
      "weighted avg       0.93      0.93      0.93      2000\n",
      "\n"
     ]
    }
   ],
   "source": [
    "from xgboost import XGBClassifier\n",
    "model= XGBClassifier()\n",
    "\n",
    "model.fit(X_train,y_train)\n",
    "y_pred=model.predict(X_test)\n",
    "report=classification_report(y_test,y_pred)\n",
    "print(report)"
   ]
  },
  {
   "cell_type": "code",
   "execution_count": 8,
   "id": "56e2a576-ee94-4fc2-9c17-238567a704d0",
   "metadata": {},
   "outputs": [
    {
     "name": "stdout",
     "output_type": "stream",
     "text": [
      "              precision    recall  f1-score   support\n",
      "\n",
      "           0       0.90      0.94      0.92      1006\n",
      "           1       0.94      0.90      0.92       994\n",
      "\n",
      "    accuracy                           0.92      2000\n",
      "   macro avg       0.92      0.92      0.92      2000\n",
      "weighted avg       0.92      0.92      0.92      2000\n",
      "\n"
     ]
    }
   ],
   "source": [
    "probability= model.predict_proba(X_test)[:,1]\n",
    "y_pred=(probability>0.86662495).astype(int)\n",
    "\n",
    "report=classification_report(y_test,y_pred)\n",
    "print(report)"
   ]
  },
  {
   "cell_type": "code",
   "execution_count": 9,
   "id": "0fc1413b-c110-4ecb-91f8-6d0458ad69c1",
   "metadata": {},
   "outputs": [
    {
     "data": {
      "text/plain": [
       "(array([0., 0., 0., 0., 0.]),\n",
       " array([0.        , 0.00100604, 0.00905433, 0.0110664 , 0.16297787]),\n",
       " array([       inf, 0.99995947, 0.9999175 , 0.9999039 , 0.9992211 ],\n",
       "       dtype=float32))"
      ]
     },
     "execution_count": 9,
     "metadata": {},
     "output_type": "execute_result"
    }
   ],
   "source": [
    "from sklearn.metrics import roc_curve\n",
    "fpr,tpr,thresholds=roc_curve(y_test,probability)\n",
    "fpr[:5],tpr[:5],thresholds[:5]"
   ]
  },
  {
   "cell_type": "code",
   "execution_count": 10,
   "id": "16a322ae-f466-4ba4-b819-353cbc010620",
   "metadata": {},
   "outputs": [
    {
     "data": {
      "text/plain": [
       "array([0.        , 0.00100604, 0.00905433, 0.0110664 , 0.16297787,\n",
       "       0.16297787, 0.20321932, 0.20523139, 0.21730382, 0.21730382,\n",
       "       0.26961771, 0.26961771, 0.30985915, 0.30985915, 0.32193159,\n",
       "       0.32394366, 0.33400402, 0.33400402, 0.48189135, 0.48189135,\n",
       "       0.49195171, 0.49195171, 0.49597586, 0.49597586, 0.50201207,\n",
       "       0.50201207, 0.52112676, 0.52112676, 0.52313883, 0.52313883,\n",
       "       0.53219316, 0.53219316, 0.53420523, 0.53420523, 0.55432596,\n",
       "       0.55432596, 0.56136821, 0.56136821, 0.56438632, 0.56438632,\n",
       "       0.56539235, 0.56539235, 0.57042254, 0.57042254, 0.61167002,\n",
       "       0.61167002, 0.61267606, 0.61267606, 0.64285714, 0.64285714,\n",
       "       0.65291751, 0.65291751, 0.66700201, 0.66700201, 0.67605634,\n",
       "       0.67605634, 0.68410463, 0.68410463, 0.69014085, 0.69014085,\n",
       "       0.69919517, 0.69919517, 0.7082495 , 0.7082495 , 0.71026157,\n",
       "       0.71026157, 0.7193159 , 0.7193159 , 0.7444668 , 0.7444668 ,\n",
       "       0.74748491, 0.74748491, 0.76056338, 0.76056338, 0.76861167,\n",
       "       0.76861167, 0.7917505 , 0.7917505 , 0.79577465, 0.79577465,\n",
       "       0.79678068, 0.79678068, 0.80181087, 0.80181087, 0.80382294,\n",
       "       0.80382294, 0.80885312, 0.80885312, 0.81086519, 0.81086519,\n",
       "       0.81790744, 0.81790744, 0.82092555, 0.82092555, 0.82293763,\n",
       "       0.82293763, 0.82394366, 0.82394366, 0.83098592, 0.83098592,\n",
       "       0.83299799, 0.83299799, 0.84507042, 0.84507042, 0.861167  ,\n",
       "       0.861167  , 0.86217304, 0.86217304, 0.86921529, 0.86921529,\n",
       "       0.87122736, 0.87122736, 0.88128773, 0.88128773, 0.89034205,\n",
       "       0.89034205, 0.89336016, 0.89336016, 0.8943662 , 0.8943662 ,\n",
       "       0.90040241, 0.90040241, 0.90442656, 0.90442656, 0.91046278,\n",
       "       0.91046278, 0.91549296, 0.91549296, 0.91750503, 0.91750503,\n",
       "       0.9195171 , 0.9195171 , 0.92253521, 0.92253521, 0.92655936,\n",
       "       0.92655936, 0.92857143, 0.92857143, 0.9305835 , 0.9305835 ,\n",
       "       0.93460765, 0.93460765, 0.93561368, 0.93561368, 0.93762575,\n",
       "       0.93762575, 0.93963783, 0.93963783, 0.94064386, 0.94064386,\n",
       "       0.9416499 , 0.9416499 , 0.94567404, 0.94567404, 0.94668008,\n",
       "       0.94668008, 0.94768612, 0.94768612, 0.94969819, 0.94969819,\n",
       "       0.95070423, 0.95070423, 0.9527163 , 0.9527163 , 0.95573441,\n",
       "       0.95573441, 0.96177062, 0.96177062, 0.96478873, 0.96478873,\n",
       "       0.96881288, 0.96881288, 0.96981891, 0.96981891, 0.97183099,\n",
       "       0.97183099, 0.97283702, 0.97283702, 0.97384306, 0.97384306,\n",
       "       0.97484909, 0.97484909, 0.97585513, 0.97585513, 0.97686117,\n",
       "       0.97686117, 0.9778672 , 0.9778672 , 0.97887324, 0.97887324,\n",
       "       0.97987928, 0.97987928, 0.98088531, 0.98088531, 0.98189135,\n",
       "       0.98189135, 0.98289738, 0.98289738, 0.98390342, 0.98390342,\n",
       "       0.98490946, 0.98490946, 0.98591549, 0.98591549, 0.98692153,\n",
       "       0.98692153, 0.98792757, 0.98792757, 0.9889336 , 0.9889336 ,\n",
       "       0.98993964, 0.98993964, 0.99094567, 0.99094567, 0.99195171,\n",
       "       0.99195171, 0.99295775, 0.99295775, 0.99396378, 0.99396378,\n",
       "       0.99496982, 0.99496982, 0.99597586, 0.99597586, 0.99698189,\n",
       "       0.99698189, 0.99798793, 0.99798793, 0.99899396, 0.99899396,\n",
       "       1.        , 1.        ])"
      ]
     },
     "execution_count": 10,
     "metadata": {},
     "output_type": "execute_result"
    }
   ],
   "source": [
    "tpr"
   ]
  },
  {
   "cell_type": "code",
   "execution_count": 11,
   "id": "2c536413-f60c-45ff-82eb-28418bc9cc6e",
   "metadata": {},
   "outputs": [
    {
     "data": {
      "text/plain": [
       "np.int64(120)"
      ]
     },
     "execution_count": 11,
     "metadata": {},
     "output_type": "execute_result"
    }
   ],
   "source": [
    "import numpy as np\n",
    "desired_recall=0.9\n",
    "closest_recall=np.argmin(abs(tpr-desired_recall))\n",
    "closest_recall"
   ]
  },
  {
   "cell_type": "code",
   "execution_count": 12,
   "id": "2725a195-c3a3-48bb-8fe3-adde8bc68c6d",
   "metadata": {},
   "outputs": [
    {
     "data": {
      "text/plain": [
       "(np.float32(0.86662495), np.float64(0.061630218687872766))"
      ]
     },
     "execution_count": 12,
     "metadata": {},
     "output_type": "execute_result"
    }
   ],
   "source": [
    "thresholds[closest_recall],fpr[closest_recall]"
   ]
  },
  {
   "cell_type": "code",
   "execution_count": 13,
   "id": "44f5b8bc-c6fe-492f-acc1-075eaef176d0",
   "metadata": {},
   "outputs": [
    {
     "data": {
      "text/plain": [
       "np.float64(0.9720509938357782)"
      ]
     },
     "execution_count": 13,
     "metadata": {},
     "output_type": "execute_result"
    }
   ],
   "source": [
    "from sklearn.metrics import auc\n",
    "area=auc(fpr,tpr)\n",
    "area"
   ]
  },
  {
   "cell_type": "code",
   "execution_count": 14,
   "id": "2a9e9ad9-e82c-4411-91d3-0a3dc7093eba",
   "metadata": {},
   "outputs": [
    {
     "data": {
      "image/png": "[encoded data removed]",
      "text/plain": [
       "<Figure size 640x480 with 1 Axes>"
      ]
     },
     "metadata": {},
     "output_type": "display_data"
    }
   ],
   "source": [
    "from matplotlib import pyplot as plt\n",
    "\n",
    "plt.figure()\n",
    "plt.plot(fpr, tpr, color = 'darkorange',lw=2,label='ROC curve(area =%0.2f)'%area)\n",
    "plt.plot([0,1],[0,1],color= 'navy',lw=2,linestyle='--')\n",
    "plt.xlim([0.0,1.0])\n",
    "plt.ylim([0.0,1.05])\n",
    "\n",
    "plt.xlabel('false positive rate')\n",
    "plt.ylabel('true positive rate')\n",
    "plt.title('reciever operating characterstics')\n",
    "plt.legend(loc='lower right')\n",
    "plt.show()"
   ]
  },
  {
   "cell_type": "code",
   "execution_count": 15,
   "id": "1c9d805a-0d49-4064-a368-3a9f4f796b71",
   "metadata": {},
   "outputs": [],
   "source": [
    "### XGBoost"
   ]
  },
  {
   "cell_type": "code",
   "execution_count": 16,
   "id": "e52e3614-f6f8-4e5f-9ad9-bfd27ce5367b",
   "metadata": {},
   "outputs": [
    {
     "name": "stdout",
     "output_type": "stream",
     "text": [
      "              precision    recall  f1-score   support\n",
      "\n",
      "           0       0.95      0.91      0.93      1006\n",
      "           1       0.91      0.95      0.93       994\n",
      "\n",
      "    accuracy                           0.93      2000\n",
      "   macro avg       0.93      0.93      0.93      2000\n",
      "weighted avg       0.93      0.93      0.93      2000\n",
      "\n"
     ]
    }
   ],
   "source": [
    "from xgboost import XGBClassifier\n",
    "model= XGBClassifier()\n",
    "\n",
    "model.fit(X_train,y_train)\n",
    "y_pred=model.predict(X_test)\n",
    "report=classification_report(y_test,y_pred)\n",
    "print(report)"
   ]
  },
  {
   "cell_type": "code",
   "execution_count": 17,
   "id": "44fb0247-bee0-43b8-b8da-ce5d2f787200",
   "metadata": {},
   "outputs": [
    {
     "data": {
      "text/plain": [
       "np.float64(0.9720509938357782)"
      ]
     },
     "execution_count": 17,
     "metadata": {},
     "output_type": "execute_result"
    }
   ],
   "source": [
    "probability= model.predict_proba(X_test)[:,1]\n",
    "fpr_xgb,tpr_xgb,thresholds_xgb=roc_curve(y_test,probability)\n",
    "\n",
    "area_2= auc(fpr_xgb,tpr_xgb)\n",
    "area_2"
   ]
  },
  {
   "cell_type": "code",
   "execution_count": 18,
   "id": "9dee6c6d-67a2-4dfe-914c-510593c81378",
   "metadata": {
    "scrolled": true
   },
   "outputs": [
    {
     "data": {
      "image/png": "[encoded data removed]",
      "text/plain": [
       "<Figure size 640x480 with 1 Axes>"
      ]
     },
     "metadata": {},
     "output_type": "display_data"
    }
   ],
   "source": [
    "plt.figure()\n",
    "plt.plot(fpr_xgb, tpr_xgb, color = 'darkorange',lw=2,label='ROC curve(area_2 =%0.2f)'%area_2)\n",
    "plt.plot([0,1],[0,1],color= 'navy',lw=2,linestyle='--')\n",
    "plt.xlim([0.0,1.0])\n",
    "plt.ylim([0.0,1.05])\n",
    "\n",
    "plt.xlabel('false positive rate')\n",
    "plt.ylabel('true positive rate')\n",
    "plt.title('reciever operating characterstics')\n",
    "plt.legend(loc='lower right')\n",
    "plt.show()"
   ]
  },
  {
   "cell_type": "markdown",
   "id": "c73d71d6-fd72-4d96-81a0-d11658344d91",
   "metadata": {},
   "source": [
    "### KFolds"
   ]
  },
  {
   "cell_type": "code",
   "execution_count": 19,
   "id": "dda32546-e9a2-489a-bf07-feff1da4b5d1",
   "metadata": {},
   "outputs": [
    {
     "name": "stdout",
     "output_type": "stream",
     "text": [
      "0.8945\n",
      "0.8845\n",
      "0.8735\n",
      "0.89\n",
      "0.899\n"
     ]
    }
   ],
   "source": [
    "from sklearn.model_selection import KFold\n",
    "kf= KFold(n_splits=5,shuffle=True,random_state=42)\n",
    "for train_index,test_index in kf.split(X,y):\n",
    "    scores = []\n",
    "    model= LogisticRegression()\n",
    "    X_train,X_test=X[train_index],X[test_index]\n",
    "    y_train,y_test=y[train_index],y[test_index]\n",
    "\n",
    "    model.fit(X_train,y_train)\n",
    "    print(model.score(X_test,y_test))"
   ]
  },
  {
   "cell_type": "markdown",
   "id": "76da7ab9-6066-454b-b252-917f1d12aee8",
   "metadata": {},
   "source": [
    "### Evaluate using logistic_regression"
   ]
  },
  {
   "cell_type": "code",
   "execution_count": 20,
   "id": "9930cb61-ed58-40a3-af95-2df53e25134d",
   "metadata": {},
   "outputs": [
    {
     "data": {
      "text/plain": [
       "np.float64(0.8882999999999999)"
      ]
     },
     "execution_count": 20,
     "metadata": {},
     "output_type": "execute_result"
    }
   ],
   "source": [
    "from sklearn.model_selection import cross_val_score\n",
    "import numpy as np\n",
    "scores=cross_val_score(LogisticRegression(),X,y,cv=kf)\n",
    "np.average(scores)"
   ]
  },
  {
   "cell_type": "markdown",
   "id": "acb73a07-d6e5-42e8-9f72-47f29842f3b1",
   "metadata": {},
   "source": [
    "### Evaluate using Decision_tree"
   ]
  },
  {
   "cell_type": "code",
   "execution_count": 21,
   "id": "314bfaa3-733e-4e45-976a-1afb0d239d05",
   "metadata": {},
   "outputs": [
    {
     "data": {
      "text/plain": [
       "np.float64(0.8901)"
      ]
     },
     "execution_count": 21,
     "metadata": {},
     "output_type": "execute_result"
    }
   ],
   "source": [
    "from sklearn.tree import DecisionTreeClassifier\n",
    "scores2=cross_val_score(DecisionTreeClassifier(),X,y,cv=kf)\n",
    "np.average(scores2)"
   ]
  },
  {
   "cell_type": "markdown",
   "id": "1204d461-23db-42a9-b12b-282ca5dfc4a6",
   "metadata": {},
   "source": [
    "### Evaluate using Random_forest_classifier"
   ]
  },
  {
   "cell_type": "code",
   "execution_count": 22,
   "id": "062a5757-ed23-4075-93e7-5271f3c48193",
   "metadata": {},
   "outputs": [
    {
     "data": {
      "text/plain": [
       "np.float64(0.9665600106902918)"
      ]
     },
     "execution_count": 22,
     "metadata": {},
     "output_type": "execute_result"
    }
   ],
   "source": [
    "from sklearn.ensemble import RandomForestClassifier\n",
    "scores3=cross_val_score(RandomForestClassifier(n_estimators=20),X,y,cv=kf,scoring=('roc_auc'))\n",
    "np.average(scores3)"
   ]
  },
  {
   "cell_type": "code",
   "execution_count": 23,
   "id": "90696590-e863-4e5e-85db-a44892b1e0d6",
   "metadata": {},
   "outputs": [
    {
     "data": {
      "text/plain": [
       "{'fit_time': array([0.76193094, 0.8440733 , 0.90179896, 0.90384722, 1.01427889]),\n",
       " 'score_time': array([0.00299311, 0.00313139, 0.00588775, 0.00199556, 0.00299621]),\n",
       " 'test_score': array([0.8915, 0.879 , 0.8835, 0.8955, 0.8955])}"
      ]
     },
     "execution_count": 23,
     "metadata": {},
     "output_type": "execute_result"
    }
   ],
   "source": [
    "from sklearn.model_selection import cross_validate\n",
    "cross_validate(DecisionTreeClassifier(),X,y,cv=kf)"
   ]
  },
  {
   "cell_type": "markdown",
   "id": "5ed10d18-60d7-4105-a17e-fb43378f2395",
   "metadata": {},
   "source": [
    "### hyperparameter tuning: GridSearchCV"
   ]
  },
  {
   "cell_type": "markdown",
   "id": "7340b1df-e0b5-4da0-9b38-2a80e77743e3",
   "metadata": {},
   "source": [
    "### method:1,evaluate the model using train_test_split and tune the parameter by trail and error"
   ]
  },
  {
   "cell_type": "code",
   "execution_count": 24,
   "id": "610b2f0a-67bb-4c1e-9963-0a30887e07b5",
   "metadata": {},
   "outputs": [
    {
     "name": "stdout",
     "output_type": "stream",
     "text": [
      "              precision    recall  f1-score   support\n",
      "\n",
      "           0       0.94      0.91      0.92      1006\n",
      "           1       0.91      0.94      0.93       994\n",
      "\n",
      "    accuracy                           0.92      2000\n",
      "   macro avg       0.92      0.92      0.92      2000\n",
      "weighted avg       0.92      0.92      0.92      2000\n",
      "\n"
     ]
    }
   ],
   "source": [
    "from sklearn.metrics import classification_report\n",
    "from sklearn.tree import DecisionTreeClassifier\n",
    "\n",
    "X_train,X_test,y_train,y_test=train_test_split(X,y,test_size=0.2,random_state=42)\n",
    "\n",
    "model=DecisionTreeClassifier(criterion=\"gini\",max_depth=10)\n",
    "model.fit(X_train,y_train)\n",
    "\n",
    "y_pred=model.predict(X_test)\n",
    "report=classification_report(y_test,y_pred)\n",
    "print(report)"
   ]
  },
  {
   "cell_type": "markdown",
   "id": "ed48a2cd-f5b3-40e8-b2d0-83c521c2f4b7",
   "metadata": {},
   "source": [
    "### cross_val_scores"
   ]
  },
  {
   "cell_type": "code",
   "execution_count": 25,
   "id": "9a4fbda8-3af0-4f0f-9089-1633ad4a8edf",
   "metadata": {},
   "outputs": [
    {
     "data": {
      "text/plain": [
       "array([0.929 , 0.9295, 0.9145, 0.9395, 0.9335])"
      ]
     },
     "execution_count": 25,
     "metadata": {},
     "output_type": "execute_result"
    }
   ],
   "source": [
    "from sklearn.model_selection import cross_val_score\n",
    "cross_val_score(DecisionTreeClassifier(criterion=\"gini\",max_depth=5),X,y,cv=5)"
   ]
  },
  {
   "cell_type": "code",
   "execution_count": 26,
   "id": "438c61f2-77ff-4d98-9c5c-9006e0eb72e0",
   "metadata": {},
   "outputs": [
    {
     "data": {
      "text/plain": [
       "array([0.9205, 0.92  , 0.914 , 0.9335, 0.9295])"
      ]
     },
     "execution_count": 26,
     "metadata": {},
     "output_type": "execute_result"
    }
   ],
   "source": [
    "from sklearn.model_selection import cross_val_score\n",
    "cross_val_score(DecisionTreeClassifier(criterion=\"gini\",max_depth=10),X,y,cv=5)"
   ]
  },
  {
   "cell_type": "code",
   "execution_count": 27,
   "id": "04fa6754-3c80-4b4b-908b-2807ba1ec700",
   "metadata": {},
   "outputs": [
    {
     "data": {
      "text/plain": [
       "array([0.911 , 0.9065, 0.8975, 0.9125, 0.9105])"
      ]
     },
     "execution_count": 27,
     "metadata": {},
     "output_type": "execute_result"
    }
   ],
   "source": [
    "from sklearn.model_selection import cross_val_score\n",
    "cross_val_score(DecisionTreeClassifier(criterion=\"gini\",max_depth=15),X,y,cv=5)"
   ]
  },
  {
   "cell_type": "code",
   "execution_count": 28,
   "id": "ee98447c-3dbb-47de-9006-79f2fa9f4b34",
   "metadata": {},
   "outputs": [
    {
     "data": {
      "text/plain": [
       "{'gini_5': np.float64(0.9291),\n",
       " 'gini_10': np.float64(0.9212),\n",
       " 'gini_15': np.float64(0.9077999999999999),\n",
       " 'entropy_5': np.float64(0.9269999999999999),\n",
       " 'entropy_10': np.float64(0.9234),\n",
       " 'entropy_15': np.float64(0.9042)}"
      ]
     },
     "execution_count": 28,
     "metadata": {},
     "output_type": "execute_result"
    }
   ],
   "source": [
    "criterion=['gini','entropy']\n",
    "max_depth=[5,10,15]\n",
    "\n",
    "avg_scores={}\n",
    "\n",
    "for c in criterion:\n",
    "    for d in max_depth:\n",
    "        clf=DecisionTreeClassifier(criterion=c,max_depth=d)\n",
    "        score=cross_val_score(clf,X,y,cv=5)\n",
    "        avg_scores[c+'_'+str(d)]=np.average(score)\n",
    "avg_scores        "
   ]
  },
  {
   "cell_type": "code",
   "execution_count": 29,
   "id": "29b04df5-528f-451d-bc8d-690ad1004d22",
   "metadata": {},
   "outputs": [
    {
     "data": {
      "text/plain": [
       "{'mean_fit_time': array([0.33345327, 0.58788362, 0.73647041, 0.49581761, 0.87472887,\n",
       "        1.00567875]),\n",
       " 'std_fit_time': array([0.01678645, 0.01367811, 0.02925837, 0.02107779, 0.07940341,\n",
       "        0.07647326]),\n",
       " 'mean_score_time': array([0.0026895 , 0.0029511 , 0.0029851 , 0.00324988, 0.00306621,\n",
       "        0.00225496]),\n",
       " 'std_score_time': array([5.75434956e-04, 3.05373098e-04, 4.55669241e-05, 1.04657928e-03,\n",
       "        6.48400892e-04, 4.31562997e-04]),\n",
       " 'param_criterion': masked_array(data=['gini', 'gini', 'gini', 'entropy', 'entropy',\n",
       "                    'entropy'],\n",
       "              mask=[False, False, False, False, False, False],\n",
       "        fill_value=np.str_('?'),\n",
       "             dtype=object),\n",
       " 'param_max_depth': masked_array(data=[5, 10, 15, 5, 10, 15],\n",
       "              mask=[False, False, False, False, False, False],\n",
       "        fill_value=999999),\n",
       " 'params': [{'criterion': 'gini', 'max_depth': 5},\n",
       "  {'criterion': 'gini', 'max_depth': 10},\n",
       "  {'criterion': 'gini', 'max_depth': 15},\n",
       "  {'criterion': 'entropy', 'max_depth': 5},\n",
       "  {'criterion': 'entropy', 'max_depth': 10},\n",
       "  {'criterion': 'entropy', 'max_depth': 15}],\n",
       " 'split0_test_score': array([0.9285, 0.9215, 0.903 , 0.927 , 0.916 , 0.904 ]),\n",
       " 'split1_test_score': array([0.929 , 0.919 , 0.91  , 0.9285, 0.924 , 0.902 ]),\n",
       " 'split2_test_score': array([0.9145, 0.9135, 0.896 , 0.917 , 0.9115, 0.897 ]),\n",
       " 'split3_test_score': array([0.9395, 0.9275, 0.915 , 0.9305, 0.93  , 0.909 ]),\n",
       " 'split4_test_score': array([0.933 , 0.9275, 0.9015, 0.931 , 0.9315, 0.913 ]),\n",
       " 'mean_test_score': array([0.9289, 0.9218, 0.9051, 0.9268, 0.9226, 0.905 ]),\n",
       " 'std_test_score': array([0.0082061 , 0.00532541, 0.00666633, 0.0051049 , 0.00778075,\n",
       "        0.00554977]),\n",
       " 'rank_test_score': array([1, 4, 5, 2, 3, 6], dtype=int32)}"
      ]
     },
     "execution_count": 29,
     "metadata": {},
     "output_type": "execute_result"
    }
   ],
   "source": [
    "from sklearn.model_selection import GridSearchCV\n",
    "clf=GridSearchCV(\n",
    "    DecisionTreeClassifier(),\n",
    "    {\n",
    "    'criterion':[\"gini\",\"entropy\"],\n",
    "    'max_depth':[5,10,15]\n",
    "   },\n",
    "   cv=5,\n",
    "   return_train_score=False\n",
    ")\n",
    "clf.fit(X,y)\n",
    "clf.cv_results_"
   ]
  },
  {
   "cell_type": "code",
   "execution_count": 30,
   "id": "fcbaea85-ec6c-4750-90cc-0f405958f3a7",
   "metadata": {},
   "outputs": [
    {
     "data": {
      "text/html": [
       "<div>\n",
       "<style scoped>\n",
       "    .dataframe tbody tr th:only-of-type {\n",
       "        vertical-align: middle;\n",
       "    }\n",
       "\n",
       "    .dataframe tbody tr th {\n",
       "        vertical-align: top;\n",
       "    }\n",
       "\n",
       "    .dataframe thead th {\n",
       "        text-align: right;\n",
       "    }\n",
       "</style>\n",
       "<table border=\"1\" class=\"dataframe\">\n",
       "  <thead>\n",
       "    <tr style=\"text-align: right;\">\n",
       "      <th></th>\n",
       "      <th>mean_fit_time</th>\n",
       "      <th>std_fit_time</th>\n",
       "      <th>mean_score_time</th>\n",
       "      <th>std_score_time</th>\n",
       "      <th>param_criterion</th>\n",
       "      <th>param_max_depth</th>\n",
       "      <th>params</th>\n",
       "      <th>split0_test_score</th>\n",
       "      <th>split1_test_score</th>\n",
       "      <th>split2_test_score</th>\n",
       "      <th>split3_test_score</th>\n",
       "      <th>split4_test_score</th>\n",
       "      <th>mean_test_score</th>\n",
       "      <th>std_test_score</th>\n",
       "      <th>rank_test_score</th>\n",
       "    </tr>\n",
       "  </thead>\n",
       "  <tbody>\n",
       "    <tr>\n",
       "      <th>0</th>\n",
       "      <td>0.333453</td>\n",
       "      <td>0.016786</td>\n",
       "      <td>0.002690</td>\n",
       "      <td>0.000575</td>\n",
       "      <td>gini</td>\n",
       "      <td>5</td>\n",
       "      <td>{'criterion': 'gini', 'max_depth': 5}</td>\n",
       "      <td>0.9285</td>\n",
       "      <td>0.9290</td>\n",
       "      <td>0.9145</td>\n",
       "      <td>0.9395</td>\n",
       "      <td>0.9330</td>\n",
       "      <td>0.9289</td>\n",
       "      <td>0.008206</td>\n",
       "      <td>1</td>\n",
       "    </tr>\n",
       "    <tr>\n",
       "      <th>1</th>\n",
       "      <td>0.587884</td>\n",
       "      <td>0.013678</td>\n",
       "      <td>0.002951</td>\n",
       "      <td>0.000305</td>\n",
       "      <td>gini</td>\n",
       "      <td>10</td>\n",
       "      <td>{'criterion': 'gini', 'max_depth': 10}</td>\n",
       "      <td>0.9215</td>\n",
       "      <td>0.9190</td>\n",
       "      <td>0.9135</td>\n",
       "      <td>0.9275</td>\n",
       "      <td>0.9275</td>\n",
       "      <td>0.9218</td>\n",
       "      <td>0.005325</td>\n",
       "      <td>4</td>\n",
       "    </tr>\n",
       "    <tr>\n",
       "      <th>2</th>\n",
       "      <td>0.736470</td>\n",
       "      <td>0.029258</td>\n",
       "      <td>0.002985</td>\n",
       "      <td>0.000046</td>\n",
       "      <td>gini</td>\n",
       "      <td>15</td>\n",
       "      <td>{'criterion': 'gini', 'max_depth': 15}</td>\n",
       "      <td>0.9030</td>\n",
       "      <td>0.9100</td>\n",
       "      <td>0.8960</td>\n",
       "      <td>0.9150</td>\n",
       "      <td>0.9015</td>\n",
       "      <td>0.9051</td>\n",
       "      <td>0.006666</td>\n",
       "      <td>5</td>\n",
       "    </tr>\n",
       "    <tr>\n",
       "      <th>3</th>\n",
       "      <td>0.495818</td>\n",
       "      <td>0.021078</td>\n",
       "      <td>0.003250</td>\n",
       "      <td>0.001047</td>\n",
       "      <td>entropy</td>\n",
       "      <td>5</td>\n",
       "      <td>{'criterion': 'entropy', 'max_depth': 5}</td>\n",
       "      <td>0.9270</td>\n",
       "      <td>0.9285</td>\n",
       "      <td>0.9170</td>\n",
       "      <td>0.9305</td>\n",
       "      <td>0.9310</td>\n",
       "      <td>0.9268</td>\n",
       "      <td>0.005105</td>\n",
       "      <td>2</td>\n",
       "    </tr>\n",
       "    <tr>\n",
       "      <th>4</th>\n",
       "      <td>0.874729</td>\n",
       "      <td>0.079403</td>\n",
       "      <td>0.003066</td>\n",
       "      <td>0.000648</td>\n",
       "      <td>entropy</td>\n",
       "      <td>10</td>\n",
       "      <td>{'criterion': 'entropy', 'max_depth': 10}</td>\n",
       "      <td>0.9160</td>\n",
       "      <td>0.9240</td>\n",
       "      <td>0.9115</td>\n",
       "      <td>0.9300</td>\n",
       "      <td>0.9315</td>\n",
       "      <td>0.9226</td>\n",
       "      <td>0.007781</td>\n",
       "      <td>3</td>\n",
       "    </tr>\n",
       "    <tr>\n",
       "      <th>5</th>\n",
       "      <td>1.005679</td>\n",
       "      <td>0.076473</td>\n",
       "      <td>0.002255</td>\n",
       "      <td>0.000432</td>\n",
       "      <td>entropy</td>\n",
       "      <td>15</td>\n",
       "      <td>{'criterion': 'entropy', 'max_depth': 15}</td>\n",
       "      <td>0.9040</td>\n",
       "      <td>0.9020</td>\n",
       "      <td>0.8970</td>\n",
       "      <td>0.9090</td>\n",
       "      <td>0.9130</td>\n",
       "      <td>0.9050</td>\n",
       "      <td>0.005550</td>\n",
       "      <td>6</td>\n",
       "    </tr>\n",
       "  </tbody>\n",
       "</table>\n",
       "</div>"
      ],
      "text/plain": [
       "   mean_fit_time  std_fit_time  mean_score_time  std_score_time  \\\n",
       "0       0.333453      0.016786         0.002690        0.000575   \n",
       "1       0.587884      0.013678         0.002951        0.000305   \n",
       "2       0.736470      0.029258         0.002985        0.000046   \n",
       "3       0.495818      0.021078         0.003250        0.001047   \n",
       "4       0.874729      0.079403         0.003066        0.000648   \n",
       "5       1.005679      0.076473         0.002255        0.000432   \n",
       "\n",
       "  param_criterion  param_max_depth                                     params  \\\n",
       "0            gini                5      {'criterion': 'gini', 'max_depth': 5}   \n",
       "1            gini               10     {'criterion': 'gini', 'max_depth': 10}   \n",
       "2            gini               15     {'criterion': 'gini', 'max_depth': 15}   \n",
       "3         entropy                5   {'criterion': 'entropy', 'max_depth': 5}   \n",
       "4         entropy               10  {'criterion': 'entropy', 'max_depth': 10}   \n",
       "5         entropy               15  {'criterion': 'entropy', 'max_depth': 15}   \n",
       "\n",
       "   split0_test_score  split1_test_score  split2_test_score  split3_test_score  \\\n",
       "0             0.9285             0.9290             0.9145             0.9395   \n",
       "1             0.9215             0.9190             0.9135             0.9275   \n",
       "2             0.9030             0.9100             0.8960             0.9150   \n",
       "3             0.9270             0.9285             0.9170             0.9305   \n",
       "4             0.9160             0.9240             0.9115             0.9300   \n",
       "5             0.9040             0.9020             0.8970             0.9090   \n",
       "\n",
       "   split4_test_score  mean_test_score  std_test_score  rank_test_score  \n",
       "0             0.9330           0.9289        0.008206                1  \n",
       "1             0.9275           0.9218        0.005325                4  \n",
       "2             0.9015           0.9051        0.006666                5  \n",
       "3             0.9310           0.9268        0.005105                2  \n",
       "4             0.9315           0.9226        0.007781                3  \n",
       "5             0.9130           0.9050        0.005550                6  "
      ]
     },
     "execution_count": 30,
     "metadata": {},
     "output_type": "execute_result"
    }
   ],
   "source": [
    "import pandas as pd\n",
    "df= pd.DataFrame(clf.cv_results_)\n",
    "df"
   ]
  },
  {
   "cell_type": "code",
   "execution_count": 31,
   "id": "ce70e82f-67d8-49b2-b528-5437ea31259c",
   "metadata": {},
   "outputs": [
    {
     "data": {
      "text/html": [
       "<div>\n",
       "<style scoped>\n",
       "    .dataframe tbody tr th:only-of-type {\n",
       "        vertical-align: middle;\n",
       "    }\n",
       "\n",
       "    .dataframe tbody tr th {\n",
       "        vertical-align: top;\n",
       "    }\n",
       "\n",
       "    .dataframe thead th {\n",
       "        text-align: right;\n",
       "    }\n",
       "</style>\n",
       "<table border=\"1\" class=\"dataframe\">\n",
       "  <thead>\n",
       "    <tr style=\"text-align: right;\">\n",
       "      <th></th>\n",
       "      <th>param_criterion</th>\n",
       "      <th>param_max_depth</th>\n",
       "      <th>mean_test_score</th>\n",
       "    </tr>\n",
       "  </thead>\n",
       "  <tbody>\n",
       "    <tr>\n",
       "      <th>0</th>\n",
       "      <td>gini</td>\n",
       "      <td>5</td>\n",
       "      <td>0.9289</td>\n",
       "    </tr>\n",
       "    <tr>\n",
       "      <th>1</th>\n",
       "      <td>gini</td>\n",
       "      <td>10</td>\n",
       "      <td>0.9218</td>\n",
       "    </tr>\n",
       "    <tr>\n",
       "      <th>2</th>\n",
       "      <td>gini</td>\n",
       "      <td>15</td>\n",
       "      <td>0.9051</td>\n",
       "    </tr>\n",
       "    <tr>\n",
       "      <th>3</th>\n",
       "      <td>entropy</td>\n",
       "      <td>5</td>\n",
       "      <td>0.9268</td>\n",
       "    </tr>\n",
       "    <tr>\n",
       "      <th>4</th>\n",
       "      <td>entropy</td>\n",
       "      <td>10</td>\n",
       "      <td>0.9226</td>\n",
       "    </tr>\n",
       "    <tr>\n",
       "      <th>5</th>\n",
       "      <td>entropy</td>\n",
       "      <td>15</td>\n",
       "      <td>0.9050</td>\n",
       "    </tr>\n",
       "  </tbody>\n",
       "</table>\n",
       "</div>"
      ],
      "text/plain": [
       "  param_criterion  param_max_depth  mean_test_score\n",
       "0            gini                5           0.9289\n",
       "1            gini               10           0.9218\n",
       "2            gini               15           0.9051\n",
       "3         entropy                5           0.9268\n",
       "4         entropy               10           0.9226\n",
       "5         entropy               15           0.9050"
      ]
     },
     "execution_count": 31,
     "metadata": {},
     "output_type": "execute_result"
    }
   ],
   "source": [
    "df[['param_criterion','param_max_depth','mean_test_score']]"
   ]
  },
  {
   "cell_type": "code",
   "execution_count": 32,
   "id": "93fb0e70-890e-4a48-be01-321428cd4145",
   "metadata": {},
   "outputs": [
    {
     "data": {
      "text/plain": [
       "{'criterion': 'gini', 'max_depth': 5}"
      ]
     },
     "execution_count": 32,
     "metadata": {},
     "output_type": "execute_result"
    }
   ],
   "source": [
    "clf.best_params_"
   ]
  },
  {
   "cell_type": "code",
   "execution_count": 33,
   "id": "e7a68e26-ceea-4c0e-9124-cb0034e62a19",
   "metadata": {},
   "outputs": [
    {
     "data": {
      "text/html": [
       "<style>#sk-container-id-1 {\n",
       "  /* Definition of color scheme common for light and dark mode */\n",
       "  --sklearn-color-text: black;\n",
       "  --sklearn-color-line: gray;\n",
       "  /* Definition of color scheme for unfitted estimators */\n",
       "  --sklearn-color-unfitted-level-0: #fff5e6;\n",
       "  --sklearn-color-unfitted-level-1: #f6e4d2;\n",
       "  --sklearn-color-unfitted-level-2: #ffe0b3;\n",
       "  --sklearn-color-unfitted-level-3: chocolate;\n",
       "  /* Definition of color scheme for fitted estimators */\n",
       "  --sklearn-color-fitted-level-0: #f0f8ff;\n",
       "  --sklearn-color-fitted-level-1: #d4ebff;\n",
       "  --sklearn-color-fitted-level-2: #b3dbfd;\n",
       "  --sklearn-color-fitted-level-3: cornflowerblue;\n",
       "\n",
       "  /* Specific color for light theme */\n",
       "  --sklearn-color-text-on-default-background: var(--sg-text-color, var(--theme-code-foreground, var(--jp-content-font-color1, black)));\n",
       "  --sklearn-color-background: var(--sg-background-color, var(--theme-background, var(--jp-layout-color0, white)));\n",
       "  --sklearn-color-border-box: var(--sg-text-color, var(--theme-code-foreground, var(--jp-content-font-color1, black)));\n",
       "  --sklearn-color-icon: #696969;\n",
       "\n",
       "  @media (prefers-color-scheme: dark) {\n",
       "    /* Redefinition of color scheme for dark theme */\n",
       "    --sklearn-color-text-on-default-background: var(--sg-text-color, var(--theme-code-foreground, var(--jp-content-font-color1, white)));\n",
       "    --sklearn-color-background: var(--sg-background-color, var(--theme-background, var(--jp-layout-color0, #111)));\n",
       "    --sklearn-color-border-box: var(--sg-text-color, var(--theme-code-foreground, var(--jp-content-font-color1, white)));\n",
       "    --sklearn-color-icon: #878787;\n",
       "  }\n",
       "}\n",
       "\n",
       "#sk-container-id-1 {\n",
       "  color: var(--sklearn-color-text);\n",
       "}\n",
       "\n",
       "#sk-container-id-1 pre {\n",
       "  padding: 0;\n",
       "}\n",
       "\n",
       "#sk-container-id-1 input.sk-hidden--visually {\n",
       "  border: 0;\n",
       "  clip: rect(1px 1px 1px 1px);\n",
       "  clip: rect(1px, 1px, 1px, 1px);\n",
       "  height: 1px;\n",
       "  margin: -1px;\n",
       "  overflow: hidden;\n",
       "  padding: 0;\n",
       "  position: absolute;\n",
       "  width: 1px;\n",
       "}\n",
       "\n",
       "#sk-container-id-1 div.sk-dashed-wrapped {\n",
       "  border: 1px dashed var(--sklearn-color-line);\n",
       "  margin: 0 0.4em 0.5em 0.4em;\n",
       "  box-sizing: border-box;\n",
       "  padding-bottom: 0.4em;\n",
       "  background-color: var(--sklearn-color-background);\n",
       "}\n",
       "\n",
       "#sk-container-id-1 div.sk-container {\n",
       "  /* jupyter's `normalize.less` sets `[hidden] { display: none; }`\n",
       "     but bootstrap.min.css set `[hidden] { display: none !important; }`\n",
       "     so we also need the `!important` here to be able to override the\n",
       "     default hidden behavior on the sphinx rendered scikit-learn.org.\n",
       "     See: https://github.com/scikit-learn/scikit-learn/issues/21755 */\n",
       "  display: inline-block !important;\n",
       "  position: relative;\n",
       "}\n",
       "\n",
       "#sk-container-id-1 div.sk-text-repr-fallback {\n",
       "  display: none;\n",
       "}\n",
       "\n",
       "div.sk-parallel-item,\n",
       "div.sk-serial,\n",
       "div.sk-item {\n",
       "  /* draw centered vertical line to link estimators */\n",
       "  background-image: linear-gradient(var(--sklearn-color-text-on-default-background), var(--sklearn-color-text-on-default-background));\n",
       "  background-size: 2px 100%;\n",
       "  background-repeat: no-repeat;\n",
       "  background-position: center center;\n",
       "}\n",
       "\n",
       "/* Parallel-specific style estimator block */\n",
       "\n",
       "#sk-container-id-1 div.sk-parallel-item::after {\n",
       "  content: \"\";\n",
       "  width: 100%;\n",
       "  border-bottom: 2px solid var(--sklearn-color-text-on-default-background);\n",
       "  flex-grow: 1;\n",
       "}\n",
       "\n",
       "#sk-container-id-1 div.sk-parallel {\n",
       "  display: flex;\n",
       "  align-items: stretch;\n",
       "  justify-content: center;\n",
       "  background-color: var(--sklearn-color-background);\n",
       "  position: relative;\n",
       "}\n",
       "\n",
       "#sk-container-id-1 div.sk-parallel-item {\n",
       "  display: flex;\n",
       "  flex-direction: column;\n",
       "}\n",
       "\n",
       "#sk-container-id-1 div.sk-parallel-item:first-child::after {\n",
       "  align-self: flex-end;\n",
       "  width: 50%;\n",
       "}\n",
       "\n",
       "#sk-container-id-1 div.sk-parallel-item:last-child::after {\n",
       "  align-self: flex-start;\n",
       "  width: 50%;\n",
       "}\n",
       "\n",
       "#sk-container-id-1 div.sk-parallel-item:only-child::after {\n",
       "  width: 0;\n",
       "}\n",
       "\n",
       "/* Serial-specific style estimator block */\n",
       "\n",
       "#sk-container-id-1 div.sk-serial {\n",
       "  display: flex;\n",
       "  flex-direction: column;\n",
       "  align-items: center;\n",
       "  background-color: var(--sklearn-color-background);\n",
       "  padding-right: 1em;\n",
       "  padding-left: 1em;\n",
       "}\n",
       "\n",
       "\n",
       "/* Toggleable style: style used for estimator/Pipeline/ColumnTransformer box that is\n",
       "clickable and can be expanded/collapsed.\n",
       "- Pipeline and ColumnTransformer use this feature and define the default style\n",
       "- Estimators will overwrite some part of the style using the `sk-estimator` class\n",
       "*/\n",
       "\n",
       "/* Pipeline and ColumnTransformer style (default) */\n",
       "\n",
       "#sk-container-id-1 div.sk-toggleable {\n",
       "  /* Default theme specific background. It is overwritten whether we have a\n",
       "  specific estimator or a Pipeline/ColumnTransformer */\n",
       "  background-color: var(--sklearn-color-background);\n",
       "}\n",
       "\n",
       "/* Toggleable label */\n",
       "#sk-container-id-1 label.sk-toggleable__label {\n",
       "  cursor: pointer;\n",
       "  display: block;\n",
       "  width: 100%;\n",
       "  margin-bottom: 0;\n",
       "  padding: 0.5em;\n",
       "  box-sizing: border-box;\n",
       "  text-align: center;\n",
       "}\n",
       "\n",
       "#sk-container-id-1 label.sk-toggleable__label-arrow:before {\n",
       "  /* Arrow on the left of the label */\n",
       "  content: \"▸\";\n",
       "  float: left;\n",
       "  margin-right: 0.25em;\n",
       "  color: var(--sklearn-color-icon);\n",
       "}\n",
       "\n",
       "#sk-container-id-1 label.sk-toggleable__label-arrow:hover:before {\n",
       "  color: var(--sklearn-color-text);\n",
       "}\n",
       "\n",
       "/* Toggleable content - dropdown */\n",
       "\n",
       "#sk-container-id-1 div.sk-toggleable__content {\n",
       "  max-height: 0;\n",
       "  max-width: 0;\n",
       "  overflow: hidden;\n",
       "  text-align: left;\n",
       "  /* unfitted */\n",
       "  background-color: var(--sklearn-color-unfitted-level-0);\n",
       "}\n",
       "\n",
       "#sk-container-id-1 div.sk-toggleable__content.fitted {\n",
       "  /* fitted */\n",
       "  background-color: var(--sklearn-color-fitted-level-0);\n",
       "}\n",
       "\n",
       "#sk-container-id-1 div.sk-toggleable__content pre {\n",
       "  margin: 0.2em;\n",
       "  border-radius: 0.25em;\n",
       "  color: var(--sklearn-color-text);\n",
       "  /* unfitted */\n",
       "  background-color: var(--sklearn-color-unfitted-level-0);\n",
       "}\n",
       "\n",
       "#sk-container-id-1 div.sk-toggleable__content.fitted pre {\n",
       "  /* unfitted */\n",
       "  background-color: var(--sklearn-color-fitted-level-0);\n",
       "}\n",
       "\n",
       "#sk-container-id-1 input.sk-toggleable__control:checked~div.sk-toggleable__content {\n",
       "  /* Expand drop-down */\n",
       "  max-height: 200px;\n",
       "  max-width: 100%;\n",
       "  overflow: auto;\n",
       "}\n",
       "\n",
       "#sk-container-id-1 input.sk-toggleable__control:checked~label.sk-toggleable__label-arrow:before {\n",
       "  content: \"▾\";\n",
       "}\n",
       "\n",
       "/* Pipeline/ColumnTransformer-specific style */\n",
       "\n",
       "#sk-container-id-1 div.sk-label input.sk-toggleable__control:checked~label.sk-toggleable__label {\n",
       "  color: var(--sklearn-color-text);\n",
       "  background-color: var(--sklearn-color-unfitted-level-2);\n",
       "}\n",
       "\n",
       "#sk-container-id-1 div.sk-label.fitted input.sk-toggleable__control:checked~label.sk-toggleable__label {\n",
       "  background-color: var(--sklearn-color-fitted-level-2);\n",
       "}\n",
       "\n",
       "/* Estimator-specific style */\n",
       "\n",
       "/* Colorize estimator box */\n",
       "#sk-container-id-1 div.sk-estimator input.sk-toggleable__control:checked~label.sk-toggleable__label {\n",
       "  /* unfitted */\n",
       "  background-color: var(--sklearn-color-unfitted-level-2);\n",
       "}\n",
       "\n",
       "#sk-container-id-1 div.sk-estimator.fitted input.sk-toggleable__control:checked~label.sk-toggleable__label {\n",
       "  /* fitted */\n",
       "  background-color: var(--sklearn-color-fitted-level-2);\n",
       "}\n",
       "\n",
       "#sk-container-id-1 div.sk-label label.sk-toggleable__label,\n",
       "#sk-container-id-1 div.sk-label label {\n",
       "  /* The background is the default theme color */\n",
       "  color: var(--sklearn-color-text-on-default-background);\n",
       "}\n",
       "\n",
       "/* On hover, darken the color of the background */\n",
       "#sk-container-id-1 div.sk-label:hover label.sk-toggleable__label {\n",
       "  color: var(--sklearn-color-text);\n",
       "  background-color: var(--sklearn-color-unfitted-level-2);\n",
       "}\n",
       "\n",
       "/* Label box, darken color on hover, fitted */\n",
       "#sk-container-id-1 div.sk-label.fitted:hover label.sk-toggleable__label.fitted {\n",
       "  color: var(--sklearn-color-text);\n",
       "  background-color: var(--sklearn-color-fitted-level-2);\n",
       "}\n",
       "\n",
       "/* Estimator label */\n",
       "\n",
       "#sk-container-id-1 div.sk-label label {\n",
       "  font-family: monospace;\n",
       "  font-weight: bold;\n",
       "  display: inline-block;\n",
       "  line-height: 1.2em;\n",
       "}\n",
       "\n",
       "#sk-container-id-1 div.sk-label-container {\n",
       "  text-align: center;\n",
       "}\n",
       "\n",
       "/* Estimator-specific */\n",
       "#sk-container-id-1 div.sk-estimator {\n",
       "  font-family: monospace;\n",
       "  border: 1px dotted var(--sklearn-color-border-box);\n",
       "  border-radius: 0.25em;\n",
       "  box-sizing: border-box;\n",
       "  margin-bottom: 0.5em;\n",
       "  /* unfitted */\n",
       "  background-color: var(--sklearn-color-unfitted-level-0);\n",
       "}\n",
       "\n",
       "#sk-container-id-1 div.sk-estimator.fitted {\n",
       "  /* fitted */\n",
       "  background-color: var(--sklearn-color-fitted-level-0);\n",
       "}\n",
       "\n",
       "/* on hover */\n",
       "#sk-container-id-1 div.sk-estimator:hover {\n",
       "  /* unfitted */\n",
       "  background-color: var(--sklearn-color-unfitted-level-2);\n",
       "}\n",
       "\n",
       "#sk-container-id-1 div.sk-estimator.fitted:hover {\n",
       "  /* fitted */\n",
       "  background-color: var(--sklearn-color-fitted-level-2);\n",
       "}\n",
       "\n",
       "/* Specification for estimator info (e.g. \"i\" and \"?\") */\n",
       "\n",
       "/* Common style for \"i\" and \"?\" */\n",
       "\n",
       ".sk-estimator-doc-link,\n",
       "a:link.sk-estimator-doc-link,\n",
       "a:visited.sk-estimator-doc-link {\n",
       "  float: right;\n",
       "  font-size: smaller;\n",
       "  line-height: 1em;\n",
       "  font-family: monospace;\n",
       "  background-color: var(--sklearn-color-background);\n",
       "  border-radius: 1em;\n",
       "  height: 1em;\n",
       "  width: 1em;\n",
       "  text-decoration: none !important;\n",
       "  margin-left: 1ex;\n",
       "  /* unfitted */\n",
       "  border: var(--sklearn-color-unfitted-level-1) 1pt solid;\n",
       "  color: var(--sklearn-color-unfitted-level-1);\n",
       "}\n",
       "\n",
       ".sk-estimator-doc-link.fitted,\n",
       "a:link.sk-estimator-doc-link.fitted,\n",
       "a:visited.sk-estimator-doc-link.fitted {\n",
       "  /* fitted */\n",
       "  border: var(--sklearn-color-fitted-level-1) 1pt solid;\n",
       "  color: var(--sklearn-color-fitted-level-1);\n",
       "}\n",
       "\n",
       "/* On hover */\n",
       "div.sk-estimator:hover .sk-estimator-doc-link:hover,\n",
       ".sk-estimator-doc-link:hover,\n",
       "div.sk-label-container:hover .sk-estimator-doc-link:hover,\n",
       ".sk-estimator-doc-link:hover {\n",
       "  /* unfitted */\n",
       "  background-color: var(--sklearn-color-unfitted-level-3);\n",
       "  color: var(--sklearn-color-background);\n",
       "  text-decoration: none;\n",
       "}\n",
       "\n",
       "div.sk-estimator.fitted:hover .sk-estimator-doc-link.fitted:hover,\n",
       ".sk-estimator-doc-link.fitted:hover,\n",
       "div.sk-label-container:hover .sk-estimator-doc-link.fitted:hover,\n",
       ".sk-estimator-doc-link.fitted:hover {\n",
       "  /* fitted */\n",
       "  background-color: var(--sklearn-color-fitted-level-3);\n",
       "  color: var(--sklearn-color-background);\n",
       "  text-decoration: none;\n",
       "}\n",
       "\n",
       "/* Span, style for the box shown on hovering the info icon */\n",
       ".sk-estimator-doc-link span {\n",
       "  display: none;\n",
       "  z-index: 9999;\n",
       "  position: relative;\n",
       "  font-weight: normal;\n",
       "  right: .2ex;\n",
       "  padding: .5ex;\n",
       "  margin: .5ex;\n",
       "  width: min-content;\n",
       "  min-width: 20ex;\n",
       "  max-width: 50ex;\n",
       "  color: var(--sklearn-color-text);\n",
       "  box-shadow: 2pt 2pt 4pt #999;\n",
       "  /* unfitted */\n",
       "  background: var(--sklearn-color-unfitted-level-0);\n",
       "  border: .5pt solid var(--sklearn-color-unfitted-level-3);\n",
       "}\n",
       "\n",
       ".sk-estimator-doc-link.fitted span {\n",
       "  /* fitted */\n",
       "  background: var(--sklearn-color-fitted-level-0);\n",
       "  border: var(--sklearn-color-fitted-level-3);\n",
       "}\n",
       "\n",
       ".sk-estimator-doc-link:hover span {\n",
       "  display: block;\n",
       "}\n",
       "\n",
       "/* \"?\"-specific style due to the `<a>` HTML tag */\n",
       "\n",
       "#sk-container-id-1 a.estimator_doc_link {\n",
       "  float: right;\n",
       "  font-size: 1rem;\n",
       "  line-height: 1em;\n",
       "  font-family: monospace;\n",
       "  background-color: var(--sklearn-color-background);\n",
       "  border-radius: 1rem;\n",
       "  height: 1rem;\n",
       "  width: 1rem;\n",
       "  text-decoration: none;\n",
       "  /* unfitted */\n",
       "  color: var(--sklearn-color-unfitted-level-1);\n",
       "  border: var(--sklearn-color-unfitted-level-1) 1pt solid;\n",
       "}\n",
       "\n",
       "#sk-container-id-1 a.estimator_doc_link.fitted {\n",
       "  /* fitted */\n",
       "  border: var(--sklearn-color-fitted-level-1) 1pt solid;\n",
       "  color: var(--sklearn-color-fitted-level-1);\n",
       "}\n",
       "\n",
       "/* On hover */\n",
       "#sk-container-id-1 a.estimator_doc_link:hover {\n",
       "  /* unfitted */\n",
       "  background-color: var(--sklearn-color-unfitted-level-3);\n",
       "  color: var(--sklearn-color-background);\n",
       "  text-decoration: none;\n",
       "}\n",
       "\n",
       "#sk-container-id-1 a.estimator_doc_link.fitted:hover {\n",
       "  /* fitted */\n",
       "  background-color: var(--sklearn-color-fitted-level-3);\n",
       "}\n",
       "</style><div id=\"sk-container-id-1\" class=\"sk-top-container\"><div class=\"sk-text-repr-fallback\"><pre>DecisionTreeClassifier(max_depth=5)</pre><b>In a Jupyter environment, please rerun this cell to show the HTML representation or trust the notebook. <br />On GitHub, the HTML representation is unable to render, please try loading this page with nbviewer.org.</b></div><div class=\"sk-container\" hidden><div class=\"sk-item\"><div class=\"sk-estimator fitted sk-toggleable\"><input class=\"sk-toggleable__control sk-hidden--visually\" id=\"sk-estimator-id-1\" type=\"checkbox\" checked><label for=\"sk-estimator-id-1\" class=\"sk-toggleable__label fitted sk-toggleable__label-arrow fitted\">&nbsp;&nbsp;DecisionTreeClassifier<a class=\"sk-estimator-doc-link fitted\" rel=\"noreferrer\" target=\"_blank\" href=\"https://scikit-learn.org/1.5/modules/generated/sklearn.tree.DecisionTreeClassifier.html\">?<span>Documentation for DecisionTreeClassifier</span></a><span class=\"sk-estimator-doc-link fitted\">i<span>Fitted</span></span></label><div class=\"sk-toggleable__content fitted\"><pre>DecisionTreeClassifier(max_depth=5)</pre></div> </div></div></div></div>"
      ],
      "text/plain": [
       "DecisionTreeClassifier(max_depth=5)"
      ]
     },
     "execution_count": 33,
     "metadata": {},
     "output_type": "execute_result"
    }
   ],
   "source": [
    "clf.best_estimator_"
   ]
  },
  {
   "cell_type": "code",
   "execution_count": 34,
   "id": "c35ad128-b626-433c-b0ac-31aa578071a1",
   "metadata": {},
   "outputs": [
    {
     "data": {
      "text/plain": [
       "[{'model': 'descision_tree',\n",
       "  'best_score': np.float64(0.9291),\n",
       "  'best_params': {'criterion': 'gini', 'max_depth': 5}},\n",
       " {'model': 'svm',\n",
       "  'best_score': np.float64(0.9242000000000001),\n",
       "  'best_params': {'C': 1, 'kernel': 'rbf'}}]"
      ]
     },
     "execution_count": 34,
     "metadata": {},
     "output_type": "execute_result"
    }
   ],
   "source": [
    "from sklearn import svm\n",
    "\n",
    "model_params={\n",
    "    'descision_tree':{\n",
    "    'model':DecisionTreeClassifier(),\n",
    "    'params':{\n",
    "        'criterion':[\"gini\",\"entropy\"],\n",
    "    'max_depth':[5,10,15]\n",
    "    }\n",
    "    },\n",
    "    'svm':{\n",
    "         'model':svm.SVC(gamma='auto'),\n",
    "           'params':{\n",
    "           'C':[1,10,20],\n",
    "           'kernel':['rbf','linear']\n",
    "    }\n",
    " }\n",
    "}\n",
    "scores=[]\n",
    "for key,val in model_params.items():\n",
    "   clf= GridSearchCV(val['model'],val['params'],cv=5,return_train_score=False)\n",
    "   clf.fit(X,y)\n",
    "   scores.append({\n",
    "            'model':key,\n",
    "            'best_score':clf.best_score_,\n",
    "            'best_params':clf.best_params_    \n",
    "   })\n",
    "scores\n"
   ]
  },
  {
   "cell_type": "code",
   "execution_count": 35,
   "id": "2ceabba1-3d51-46bc-a956-57481bfe6a81",
   "metadata": {},
   "outputs": [
    {
     "data": {
      "text/html": [
       "<div>\n",
       "<style scoped>\n",
       "    .dataframe tbody tr th:only-of-type {\n",
       "        vertical-align: middle;\n",
       "    }\n",
       "\n",
       "    .dataframe tbody tr th {\n",
       "        vertical-align: top;\n",
       "    }\n",
       "\n",
       "    .dataframe thead th {\n",
       "        text-align: right;\n",
       "    }\n",
       "</style>\n",
       "<table border=\"1\" class=\"dataframe\">\n",
       "  <thead>\n",
       "    <tr style=\"text-align: right;\">\n",
       "      <th></th>\n",
       "      <th>model</th>\n",
       "      <th>best_score</th>\n",
       "      <th>best_params</th>\n",
       "    </tr>\n",
       "  </thead>\n",
       "  <tbody>\n",
       "    <tr>\n",
       "      <th>0</th>\n",
       "      <td>descision_tree</td>\n",
       "      <td>0.9291</td>\n",
       "      <td>{'criterion': 'gini', 'max_depth': 5}</td>\n",
       "    </tr>\n",
       "    <tr>\n",
       "      <th>1</th>\n",
       "      <td>svm</td>\n",
       "      <td>0.9242</td>\n",
       "      <td>{'C': 1, 'kernel': 'rbf'}</td>\n",
       "    </tr>\n",
       "  </tbody>\n",
       "</table>\n",
       "</div>"
      ],
      "text/plain": [
       "            model  best_score                            best_params\n",
       "0  descision_tree      0.9291  {'criterion': 'gini', 'max_depth': 5}\n",
       "1             svm      0.9242              {'C': 1, 'kernel': 'rbf'}"
      ]
     },
     "execution_count": 35,
     "metadata": {},
     "output_type": "execute_result"
    }
   ],
   "source": [
    "pd.DataFrame(scores)"
   ]
  },
  {
   "cell_type": "markdown",
   "id": "cfcbfda6-1023-432f-be22-a943881f7713",
   "metadata": {},
   "source": [
    "### Randomized_searchcv"
   ]
  },
  {
   "cell_type": "code",
   "execution_count": 36,
   "id": "79458989-8b77-4f49-849a-febbd8eea1d8",
   "metadata": {},
   "outputs": [
    {
     "data": {
      "text/html": [
       "<div>\n",
       "<style scoped>\n",
       "    .dataframe tbody tr th:only-of-type {\n",
       "        vertical-align: middle;\n",
       "    }\n",
       "\n",
       "    .dataframe tbody tr th {\n",
       "        vertical-align: top;\n",
       "    }\n",
       "\n",
       "    .dataframe thead th {\n",
       "        text-align: right;\n",
       "    }\n",
       "</style>\n",
       "<table border=\"1\" class=\"dataframe\">\n",
       "  <thead>\n",
       "    <tr style=\"text-align: right;\">\n",
       "      <th></th>\n",
       "      <th>mean_fit_time</th>\n",
       "      <th>std_fit_time</th>\n",
       "      <th>mean_score_time</th>\n",
       "      <th>std_score_time</th>\n",
       "      <th>param_max_depth</th>\n",
       "      <th>param_criterion</th>\n",
       "      <th>params</th>\n",
       "      <th>split0_test_score</th>\n",
       "      <th>split1_test_score</th>\n",
       "      <th>split2_test_score</th>\n",
       "      <th>split3_test_score</th>\n",
       "      <th>split4_test_score</th>\n",
       "      <th>mean_test_score</th>\n",
       "      <th>std_test_score</th>\n",
       "      <th>rank_test_score</th>\n",
       "    </tr>\n",
       "  </thead>\n",
       "  <tbody>\n",
       "    <tr>\n",
       "      <th>0</th>\n",
       "      <td>0.516662</td>\n",
       "      <td>0.106116</td>\n",
       "      <td>0.000569</td>\n",
       "      <td>0.000746</td>\n",
       "      <td>10</td>\n",
       "      <td>gini</td>\n",
       "      <td>{'max_depth': 10, 'criterion': 'gini'}</td>\n",
       "      <td>0.9200</td>\n",
       "      <td>0.9230</td>\n",
       "      <td>0.9110</td>\n",
       "      <td>0.9330</td>\n",
       "      <td>0.9285</td>\n",
       "      <td>0.9231</td>\n",
       "      <td>0.007526</td>\n",
       "      <td>1</td>\n",
       "    </tr>\n",
       "    <tr>\n",
       "      <th>1</th>\n",
       "      <td>0.607893</td>\n",
       "      <td>0.017749</td>\n",
       "      <td>0.000604</td>\n",
       "      <td>0.000802</td>\n",
       "      <td>15</td>\n",
       "      <td>gini</td>\n",
       "      <td>{'max_depth': 15, 'criterion': 'gini'}</td>\n",
       "      <td>0.9075</td>\n",
       "      <td>0.9070</td>\n",
       "      <td>0.8950</td>\n",
       "      <td>0.9125</td>\n",
       "      <td>0.9095</td>\n",
       "      <td>0.9063</td>\n",
       "      <td>0.005972</td>\n",
       "      <td>3</td>\n",
       "    </tr>\n",
       "    <tr>\n",
       "      <th>2</th>\n",
       "      <td>0.643935</td>\n",
       "      <td>0.028160</td>\n",
       "      <td>0.004602</td>\n",
       "      <td>0.002782</td>\n",
       "      <td>10</td>\n",
       "      <td>entropy</td>\n",
       "      <td>{'max_depth': 10, 'criterion': 'entropy'}</td>\n",
       "      <td>0.9180</td>\n",
       "      <td>0.9245</td>\n",
       "      <td>0.9125</td>\n",
       "      <td>0.9280</td>\n",
       "      <td>0.9310</td>\n",
       "      <td>0.9228</td>\n",
       "      <td>0.006728</td>\n",
       "      <td>2</td>\n",
       "    </tr>\n",
       "  </tbody>\n",
       "</table>\n",
       "</div>"
      ],
      "text/plain": [
       "   mean_fit_time  std_fit_time  mean_score_time  std_score_time  \\\n",
       "0       0.516662      0.106116         0.000569        0.000746   \n",
       "1       0.607893      0.017749         0.000604        0.000802   \n",
       "2       0.643935      0.028160         0.004602        0.002782   \n",
       "\n",
       "   param_max_depth param_criterion                                     params  \\\n",
       "0               10            gini     {'max_depth': 10, 'criterion': 'gini'}   \n",
       "1               15            gini     {'max_depth': 15, 'criterion': 'gini'}   \n",
       "2               10         entropy  {'max_depth': 10, 'criterion': 'entropy'}   \n",
       "\n",
       "   split0_test_score  split1_test_score  split2_test_score  split3_test_score  \\\n",
       "0             0.9200             0.9230             0.9110             0.9330   \n",
       "1             0.9075             0.9070             0.8950             0.9125   \n",
       "2             0.9180             0.9245             0.9125             0.9280   \n",
       "\n",
       "   split4_test_score  mean_test_score  std_test_score  rank_test_score  \n",
       "0             0.9285           0.9231        0.007526                1  \n",
       "1             0.9095           0.9063        0.005972                3  \n",
       "2             0.9310           0.9228        0.006728                2  "
      ]
     },
     "execution_count": 36,
     "metadata": {},
     "output_type": "execute_result"
    }
   ],
   "source": [
    "from sklearn.model_selection import RandomizedSearchCV\n",
    "clf=RandomizedSearchCV(\n",
    "    DecisionTreeClassifier(),\n",
    "    {\n",
    "    'criterion':[\"gini\",\"entropy\"],\n",
    "    'max_depth':[5,10,15]\n",
    "   },\n",
    "   cv=5,\n",
    "   return_train_score=False,\n",
    "   n_iter=3\n",
    ")\n",
    "clf.fit(X,y)\n",
    "df=pd.DataFrame(clf.cv_results_)\n",
    "df"
   ]
  },
  {
   "cell_type": "code",
   "execution_count": 37,
   "id": "0b364d59-4883-4623-aca2-5491b7e05dfb",
   "metadata": {},
   "outputs": [
    {
     "data": {
      "text/plain": [
       "{'max_depth': 10, 'criterion': 'gini'}"
      ]
     },
     "execution_count": 37,
     "metadata": {},
     "output_type": "execute_result"
    }
   ],
   "source": [
    "clf.best_params_"
   ]
  }
 ],
 "metadata": {
  "kernelspec": {
   "display_name": "Python 3 (ipykernel)",
   "language": "python",
   "name": "python3"
  },
  "language_info": {
   "codemirror_mode": {
    "name": "ipython",
    "version": 3
   },
   "file_extension": ".py",
   "mimetype": "text/x-python",
   "name": "python",
   "nbconvert_exporter": "python",
   "pygments_lexer": "ipython3",
   "version": "3.10.11"
  }
 },
 "nbformat": 4,
 "nbformat_minor": 5
}
